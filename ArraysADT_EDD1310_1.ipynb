{
  "nbformat": 4,
  "nbformat_minor": 0,
  "metadata": {
    "colab": {
      "name": "ArraysADT_EDD1310_1.ipynb",
      "provenance": [],
      "authorship_tag": "ABX9TyPLDraHhZWtOCFPliP5Lp9S",
      "include_colab_link": true
    },
    "kernelspec": {
      "name": "python3",
      "display_name": "Python 3"
    },
    "language_info": {
      "name": "python"
    }
  },
  "cells": [
    {
      "cell_type": "markdown",
      "metadata": {
        "id": "view-in-github",
        "colab_type": "text"
      },
      "source": [
        "<a href=\"https://colab.research.google.com/github/Renecruz318/ArraysADT_EDD1310_1/blob/main/ArraysADT_EDD1310_1.ipynb\" target=\"_parent\"><img src=\"https://colab.research.google.com/assets/colab-badge.svg\" alt=\"Open In Colab\"/></a>"
      ]
    },
    {
      "cell_type": "code",
      "metadata": {
        "id": "a5UvXTlNcrpF"
      },
      "source": [
        "#Cruz Montejo Rene\n",
        "class Array:\n",
        "    def __init__( self , tam ):\n",
        "        self.__tamanio = tam\n",
        "        self.__data = [ 0 for x in range(self.__tamanio) ]\n",
        "\n",
        "    def to_string( self ):\n",
        "        info = \"\"\n",
        "        for dato in self.__data:\n",
        "            info = info + str(dato) +\"|\"\n",
        "        return info\n",
        "\n",
        "    def get_item( self , index ):\n",
        "        return self.__data[index]\n",
        "\n",
        "    def get_length( self ):\n",
        "        return len( self.__data )\n",
        "\n",
        "    def set_item( self , dato , index): \n",
        "# hace falta revisar limites\n",
        "        if index >= 0 and index < self.get_length():\n",
        "            self.__data[index] = dato\n",
        "        else:\n",
        "            print(\"Error: indice fuera de rango\")\n",
        "\n",
        "    def clear( self , dato ):\n",
        "        self.__data = [ dato for x in range(self.__tamanio) ]"
      ],
      "execution_count": null,
      "outputs": []
    },
    {
      "cell_type": "code",
      "metadata": {
        "colab": {
          "base_uri": "https://localhost:8080/"
        },
        "id": "vm7Tx3Umcp29",
        "outputId": "50b3a5f2-6f97-4528-f019-5fd61b65282d"
      },
      "source": [
        "class Trabajador:\n",
        "    def __init__ ( self, nt, nom, pat, mat, he, sb, ai ):\n",
        "      self.__numero_trabajador = nt\n",
        "      self.__nombre = nom\n",
        "      self.__paterno = pat\n",
        "      self.__materno = mat\n",
        "      self.__horas_extra = he\n",
        "      self.__sueldo_base = sb\n",
        "      self.__anio_ingreso = ai \n",
        "    #Métodos de acceso\n",
        "    def set_numero_trabajador( self , nt ):\n",
        "        self.__numero_trabajador = nt \n",
        "   \n",
        "    def get_numero_trabajador( self ):\n",
        "        return self.__numero_trabajador\n",
        "    \n",
        "    def set_nombre( self , nom ):\n",
        "        self.__nombre = nom \n",
        "   \n",
        "    def get_nombre( self ):\n",
        "        return self.__nombre\n",
        "    \n",
        "    def set_paterno( self , pat ):\n",
        "        self.__paterno = pat \n",
        "   \n",
        "    def get_paterno( self ):\n",
        "        return self.__paterno\n",
        "  \n",
        "    def set_materno( self , mat ):\n",
        "        self.__materno = mat \n",
        "   \n",
        "    def get_materno( self ):\n",
        "        return self.__materno\n",
        "\n",
        "    def set_horas_extra( self , he ):\n",
        "        self.__horas_extra = he \n",
        "   \n",
        "    def get_horas_extra( self ):\n",
        "        return self.__horas_extra\n",
        "\n",
        "    def set_sueldo_base( self , sb ):\n",
        "        self.__sueldo_base = sb \n",
        "    \n",
        "    def get_sueldo_base( self ):\n",
        "        return self.__sueldo_base\n",
        "\n",
        "    def set_nombre( self , nom ):\n",
        "        self.__nombre = nt \n",
        "    def get_nombre( self ):\n",
        "        return self.__nombre\n",
        "\n",
        "    def set_anio_ingreso( self , ai ):\n",
        "        self.__anio_ingreso = ai \n",
        "    def get_anio_ingreso( self ):\n",
        "        return self.__anio_ingreso\n",
        "    #Métodos de uso general--------> metodos que hacen calculos de la logica\n",
        "\n",
        "    def calcular_sueldo_mensual( self ):\n",
        "        anios = 2021 - self.get_anio_ingreso()\n",
        "\n",
        "        sueldo = self.get_sueldo_base()\n",
        "        #Agregar horas extra\n",
        "        sueldo += self.get_horas_extra() * 276.5\n",
        "        #Agregar prestación por antiguedad\n",
        "        sueldo = sueldo + ( sueldo * anios * 0.03 )\n",
        "        return sueldo\n",
        "    def to_string( self ):\n",
        "        return \"Nombre: \" + self.__nombre + \" Sueldo: $\"+ str(self.calcular_sueldo_mensual())\n",
        "    def calcular_atiguedad( self ):\n",
        "        return 2021 - self.get_anio_ingreso()\n",
        "emp = Trabajador( 2345, 'CARLOS', 'PEREZ' , 'CASTILLO',1,9850,2017 )\n",
        "print(emp.get_sueldo_base())\n",
        "print(emp.get_horas_extra())\n",
        "print(emp.calcular_atiguedad())\n",
        "print(emp.to_string())\n"
      ],
      "execution_count": null,
      "outputs": [
        {
          "output_type": "stream",
          "name": "stdout",
          "text": [
            "9850\n",
            "1\n",
            "4\n",
            "Nombre: CARLOS Sueldo: $11341.68\n"
          ]
        }
      ]
    },
    {
      "cell_type": "code",
      "metadata": {
        "colab": {
          "base_uri": "https://localhost:8080/"
        },
        "id": "j45IRGwgccTr",
        "outputId": "156a4254-7924-4fd0-c4b7-7d222d329c7e"
      },
      "source": [
        "class NominaADT:\n",
        "    def __init__( self , ruta_archivo ):\n",
        "        #abrir el archivo y determinar el numero de empleados --> num_emp\n",
        "        archivo = open( ruta_archivo, 'rt', encoding='latin-1')\n",
        "        empleados = archivo.readlines()\n",
        "        del empleados [0]\n",
        "        for index in range(len(empleados)):\n",
        "            empleados[index] = empleados[ index].strip().split(',')\n",
        "        self.__data=Array( len (empleados) )\n",
        "        cont = 0\n",
        "        for emp in empleados: \n",
        "            tmp = Trabajador( int(emp[0]), emp[ 1], emp[2], emp[3], int(emp[4]), int(emp[5]), int(emp[6]))\n",
        "            self.__data.set_item( tmp, cont )\n",
        "            cont += 1\n",
        "\n",
        "\n",
        "\n",
        "    def buscar_mas_antiguo( self ):\n",
        "        #iterar y buscar en el array el de mayor antiguedad\n",
        "        pass\n",
        "    def buscar_menor_antiguedad( self ):\n",
        "        # idem\n",
        "        pass\n",
        "    \n",
        "    def calcular_sueldos( self ):\n",
        "        for index in range(self.__data.get_length()):\n",
        "            print( self.__data.get_item(index).to_string() )\n",
        "    \n",
        "ejemplo = NominaADT('junio.dat')\n",
        "ejemplo.calcular_sueldos()"
      ],
      "execution_count": null,
      "outputs": [
        {
          "output_type": "stream",
          "name": "stdout",
          "text": [
            "Nombre: CARLOS Sueldo: $11032.0\n",
            "Nombre: ANGEL Sueldo: $10430.295\n",
            "Nombre: JESUS Sueldo: $11963.45\n",
            "Nombre: DAVID Sueldo: $11651.36\n",
            "Nombre: PEDRO Sueldo: $11651.36\n",
            "Nombre: DANIEL Sueldo: $11640.655\n",
            "Nombre: ALEJANDRO Sueldo: $11339.27\n",
            "Nombre: MARIA Sueldo: $11037.885\n",
            "Nombre: ALBERTO Sueldo: $11341.68\n",
            "Nombre: RAFAEL Sueldo: $11651.36\n",
            "Nombre: FERNANDO Sueldo: $11613.36\n",
            "Nombre: PABLO Sueldo: $10734.09\n",
            "Nombre: JORGE Sueldo: $10715.09\n",
            "Nombre: RAMON Sueldo: $11645.475\n"
          ]
        }
      ]
    }
  ]
}